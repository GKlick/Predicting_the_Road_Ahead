{
 "cells": [
  {
   "cell_type": "markdown",
   "metadata": {},
   "source": [
    "### Imprts and functions"
   ]
  },
  {
   "cell_type": "code",
   "execution_count": null,
   "metadata": {
    "ExecuteTime": {
     "end_time": "2019-03-07T00:23:03.085143Z",
     "start_time": "2019-03-07T00:23:03.078191Z"
    }
   },
   "outputs": [],
   "source": [
    "import fbprophet\n",
    "import pickle\n",
    "import pandas as pd\n",
    "import folium\n",
    "from shapely.geometry import Point\n",
    "from folium.plugins import HeatMap\n",
    "from shapely.geometry.polygon import Polygon\n",
    "import pandas as pd\n",
    "import numpy as np\n",
    "import json\n",
    "import branca.colormap as cm\n",
    "import matplotlib.pyplot as plt\n",
    "from datetime import timedelta\n",
    "import datetime\n",
    "import requests\n",
    "import folium\n",
    "from folium import plugins\n",
    "from scipy.ndimage import imread\n",
    "from folium import FeatureGroup, LayerControl, Map, Marker"
   ]
  },
  {
   "cell_type": "code",
   "execution_count": null,
   "metadata": {
    "ExecuteTime": {
     "end_time": "2019-03-07T00:21:54.159529Z",
     "start_time": "2019-03-07T00:21:54.151588Z"
    }
   },
   "outputs": [],
   "source": [
    "def make_forecast(leave_month, leave_day, leave_hour, leave_min = 0, window = 6):\n",
    "    '''\n",
    "    Given the month, day, and hour, minutes and the window of time (all ints),\n",
    "    create a forecast that will be used to build the map. It is assumed to be 2018,\n",
    "    since that is how the models are built\n",
    "        \n",
    "    :leave_month: an int, 1-12, for the month of prediction\n",
    "    :leave_day: an int, 1-31, for the day of prediction\n",
    "    :leave_hour: an int, 0-23, for the hour of prediction\n",
    "    :leave_min: an int, 0-60, for the minute of prediction\n",
    "    :window: an int, for the window of time for forecasts\n",
    "\n",
    "    Returns dataframe of forecasted results\n",
    "    '''\n",
    "    \n",
    "    leave_time = datetime.datetime(2018, leave_month, leave_day,leave_hour , leave_min)\n",
    "    before = [leave_time - i* timedelta(minutes = 10) for i in range(2,window+1)]\n",
    "    after = [leave_time + i* timedelta(minutes = 10) for i in range(2,window+1)]\n",
    "    \n",
    "    before.append(leave_time)\n",
    "    before = before+after\n",
    "    #future = pd.DataFrame(before, columns= ['ds'])\n",
    "    \n",
    "    return pd.DataFrame(before, columns= ['ds'])"
   ]
  },
  {
   "cell_type": "code",
   "execution_count": null,
   "metadata": {
    "ExecuteTime": {
     "end_time": "2019-03-07T00:32:31.840146Z",
     "start_time": "2019-03-07T00:32:31.530302Z"
    }
   },
   "outputs": [],
   "source": [
    "def here_api_call(start_lat, start_long, finish_lat, finish_long, mode = 'shortest'):\n",
    "    '''\n",
    "    Given the start and end lat and long, and the desired mode, uses the \n",
    "    Here API to create a route\n",
    "        \n",
    "    :start_lat: the starting latitude\n",
    "    :start_long: the starting longitude \n",
    "    :finish_lat: the end latitude\n",
    "    :finish_long: the end longitude\n",
    "    :mode: mode, either fastest or shortest\n",
    "\n",
    "    Returns dataframe of forecasted results\n",
    "    '''   \n",
    "    if mode == 'fastest':\n",
    "        url = 'https://route.api.here.com/routing/7.2/calculateroute.json?app_id=XXX&app_code=CHFq-4oV3pch-gneEAGOEA&waypoint0=geo!%s,%s&waypoint1=geo!%s,%s&mode=fastest;car;traffic:disabled;motorway:-2'\\\n",
    "        %(start_lat,start_long,finish_lat,finish_long)\n",
    "    if mode == 'shortest':\n",
    "            url = 'https://route.api.here.com/routing/7.2/calculateroute.json?app_id=XXX&app_code=CHFq-4oV3pch-gneEAGOEA&waypoint0=geo!%s,%s&waypoint1=geo!%s,%s&mode=shortest;car;traffic:disabled'\\\n",
    "            %(start_lat,start_long,finish_lat,finish_long)\n",
    "    \n",
    "    return requests.get(url).json()['response']['route'][0]['leg'][0]\n",
    "\n",
    "def directions(start_lat=41.9925487,start_long=-87.6560866,finish_lat=41.8762291,finish_long=-87.6553928, mode= 'shortest'):\n",
    "    '''\n",
    "    Given the start and end lat and long, and the desired mode, uses the \n",
    "    Here API to map route\n",
    "        \n",
    "    :start_lat: the starting latitude\n",
    "    :start_long: the starting longitude \n",
    "    :finish_lat: the end latitude\n",
    "    :finish_long: the end longitude\n",
    "    :mode: mode, either fastest or shortest\n",
    "\n",
    "    Returns dataframe of forecasted results\n",
    "    '''   \n",
    "    route = here_api_call(start_lat, start_long, finish_lat, finish_long)\n",
    "    lat = []\n",
    "    long = []\n",
    "    calc  = 0\n",
    "    for route in route['maneuver']:\n",
    "        lat.append(route['position']['latitude'])\n",
    "        long.append(route['position']['longitude'])\n",
    "        calc += route['length'] #meters\n",
    "        #print(route['length']*0.000621371) #this is meters to miles, need miles per hour (/mph)\n",
    "    coords = list(zip(lat,long))\n",
    "    #print(calc*0.000621371) #meters to miles\n",
    "    return coords\n",
    "\n",
    "def create_map(mapping_df, start_lat=41.9925487,start_long=-87.6560866,finish_lat=41.8762291,finish_long=-87.6553928, mode= 'shortest'):\n",
    "    '''\n",
    "    Given a dataframe of predicted values, the start and end lat and long, \n",
    "    and the desired mode, uses the Here API to map route\n",
    "        \n",
    "    :mapping_df: forecasted values\n",
    "    :start_lat: the starting latitude\n",
    "    :start_long: the starting longitude \n",
    "    :finish_lat: the end latitude\n",
    "    :finish_long: the end longitude\n",
    "    :mode: mode, either fastest or shortest\n",
    "\n",
    "    returns map\n",
    "    '''  \n",
    "    \n",
    "    #traffic region data\n",
    "    coords_df = pd.read_pickle('coords_df.pkl')\n",
    "    \n",
    "    #create map, centered on Chicago\n",
    "    m = folium.Map(location=[41.8781, -87.6298],\n",
    "                     zoom_start = 11)\n",
    "    \n",
    "    #add tiles\n",
    "    folium.TileLayer(tiles='OpenStreetMap').add_to(m)\n",
    "    \n",
    "    #get directions\n",
    "    coords = directions(start_lat, start_long, finish_lat, finish_long, mode)\n",
    "    \n",
    "    #loop through directions\n",
    "    for index, item in enumerate(coords):\n",
    "        #add a pop up for the starting location\n",
    "        if index == 0:\n",
    "            folium.Marker(item, popup='Start').add_to(m)\n",
    "\n",
    "        #add directions\n",
    "        try:\n",
    "            point = item,coords[index+1]\n",
    "            folium.PolyLine(point, color= 'black').add_to(m)\n",
    "\n",
    "        #when you hit the end of the direction, add that as the end location\n",
    "        except IndexError:\n",
    "            folium.Marker(item, popup='Finish').add_to(m)\n",
    "\n",
    "    #loop through dataframe\n",
    "    for i in range(len(mapping_df)):\n",
    "        \n",
    "        map_row = mapping_df.iloc[i:i+1].transpose()[1:]\n",
    "        \n",
    "        #assign color to each spead\n",
    "        colormap = cm.LinearColormap(\n",
    "            ['red', 'yellow', 'green'],\n",
    "            vmin= 17, \n",
    "            vmax= 35)\n",
    "        \n",
    "        #add each window of time as a layer\n",
    "        feature_group = FeatureGroup(name = mapping_df.ds[i], overlay=False)\n",
    "\n",
    "        #each region needs to be overlayed\n",
    "        for regions in range(1,30):\n",
    "\n",
    "            NW = coords_df.iloc[0,regions]\n",
    "            NE = coords_df.iloc[1,regions]\n",
    "            SE = coords_df.iloc[2,regions]\n",
    "            SW = coords_df.iloc[3,regions]\n",
    "\n",
    "\n",
    "            point = [NW,NE,SE,SW]\n",
    "\n",
    "\n",
    "            folium.PolyLine(point,fill='black', popup='%s'%(float(map_row.iloc[regions-1])),\n",
    "                            fill_color=colormap(float(map_row.iloc[regions-1])), fill_opacity = .5, weight=0).add_to(feature_group)\n",
    "\n",
    "        #add this all together\n",
    "        m.add_child(feature_group)\n",
    "    \n",
    "    #allows control over all the layers added\n",
    "    m.add_child(folium.map.LayerControl())\n",
    "    \n",
    "    #return the map\n",
    "    return m"
   ]
  },
  {
   "cell_type": "code",
   "execution_count": null,
   "metadata": {
    "ExecuteTime": {
     "end_time": "2019-03-07T00:33:10.343970Z",
     "start_time": "2019-03-07T00:33:10.337759Z"
    }
   },
   "outputs": [],
   "source": [
    "def forecast_map(leave_month, leave_day, leave_hour, leave_min = 0, window = 6,start_lat=41.9925487,start_long=-87.6560866,finish_lat=41.8762291,finish_long=-87.6553928, mode= 'shortest'):\n",
    "    future =  make_forecast(leave_month, leave_day, leave_hour, leave_min, window)\n",
    "    mapping_df = future\n",
    "\n",
    "    for region in range(1,30):\n",
    "        globals()['forecast%s'%(region)] = globals()['model%s'%(region)].predict(future)\n",
    "\n",
    "        colum_name = 'region%s'%(region)\n",
    "        mapping_df[colum_name] = globals()['forecast%s'%(region)].yhat\n",
    "\n",
    "    m = create_map(mapping_df)\n",
    "    \n",
    "    return mapping_df, m"
   ]
  },
  {
   "cell_type": "markdown",
   "metadata": {},
   "source": [
    "### Load Data"
   ]
  },
  {
   "cell_type": "code",
   "execution_count": null,
   "metadata": {
    "ExecuteTime": {
     "end_time": "2019-03-07T00:22:22.240643Z",
     "start_time": "2019-03-07T00:21:55.037849Z"
    }
   },
   "outputs": [],
   "source": [
    "for i in range(1,30):\n",
    "    model_name = 'region%s_model'%(i)\n",
    "    metric_name = 'region%s_stats'%(i)\n",
    "    forecast_name = 'region%s_forecast'%(i)\n",
    "\n",
    "    with open(model_name, \"rb\") as f:\n",
    "        globals()['model%s'%(i)] = pickle.load(f)\n",
    "\n",
    "    with open(metric_name, \"rb\") as g:\n",
    "        metrics = pickle.load(g)\n",
    "    \n",
    "    with open(forecast_name, \"rb\") as h:\n",
    "        globals()['forecast%s'%(i)] = pickle.load(h)"
   ]
  },
  {
   "cell_type": "markdown",
   "metadata": {},
   "source": [
    "### Make Predictions"
   ]
  },
  {
   "cell_type": "code",
   "execution_count": null,
   "metadata": {},
   "outputs": [],
   "source": []
  }
 ],
 "metadata": {
  "kernelspec": {
   "display_name": "Python 3",
   "language": "python",
   "name": "python3"
  },
  "language_info": {
   "codemirror_mode": {
    "name": "ipython",
    "version": 3
   },
   "file_extension": ".py",
   "mimetype": "text/x-python",
   "name": "python",
   "nbconvert_exporter": "python",
   "pygments_lexer": "ipython3",
   "version": "3.6.5"
  },
  "toc": {
   "base_numbering": 1,
   "nav_menu": {},
   "number_sections": true,
   "sideBar": true,
   "skip_h1_title": false,
   "title_cell": "Table of Contents",
   "title_sidebar": "Contents",
   "toc_cell": false,
   "toc_position": {},
   "toc_section_display": true,
   "toc_window_display": false
  },
  "varInspector": {
   "cols": {
    "lenName": 16,
    "lenType": 16,
    "lenVar": 40
   },
   "kernels_config": {
    "python": {
     "delete_cmd_postfix": "",
     "delete_cmd_prefix": "del ",
     "library": "var_list.py",
     "varRefreshCmd": "print(var_dic_list())"
    },
    "r": {
     "delete_cmd_postfix": ") ",
     "delete_cmd_prefix": "rm(",
     "library": "var_list.r",
     "varRefreshCmd": "cat(var_dic_list()) "
    }
   },
   "types_to_exclude": [
    "module",
    "function",
    "builtin_function_or_method",
    "instance",
    "_Feature"
   ],
   "window_display": false
  }
 },
 "nbformat": 4,
 "nbformat_minor": 2
}
